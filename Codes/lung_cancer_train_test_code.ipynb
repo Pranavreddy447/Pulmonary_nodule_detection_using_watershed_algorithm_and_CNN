{
  "cells": [
    {
      "cell_type": "code",
      "execution_count": null,
      "metadata": {
        "id": "le4wFhGSiE8b"
      },
      "outputs": [],
      "source": [
        "%matplotlib inline\n",
        "import numpy as np # linear algebra\n",
        "import pandas as pd # data processing, CSV file I/O (e.g. pd.read_csv)\n",
        "import pydicom as dicom\n",
        "import os\n",
        "import scipy.ndimage\n",
        "import matplotlib.pyplot as plt\n",
        "from skimage import measure, morphology, segmentation\n",
        "from mpl_toolkits.mplot3d.art3d import Poly3DCollection\n",
        "import scipy.ndimage as ndimage"
      ]
    },
    {
      "cell_type": "code",
      "execution_count": null,
      "metadata": {
        "colab": {
          "base_uri": "https://localhost:8080/",
          "height": 50
        },
        "id": "DDWFhe2Zi0VX",
        "outputId": "4910e549-df77-45ae-f256-4d5a6cacc091"
      },
      "outputs": [
        {
          "name": "stdout",
          "output_type": "stream",
          "text": [
            "loading data\n",
            "loading labels\n"
          ]
        }
      ],
      "source": [
        "from numpy import load\n",
        "print(\"loading data\")\n",
        "data = load(\"./data_2_256_1638.npy\")\n",
        "print(\"loading labels\")\n",
        "labels = load(\"./labels_2_1638.npy\")"
      ]
    },
    {
      "cell_type": "code",
      "execution_count": null,
      "metadata": {
        "id": "MQK-xP3xetKE",
        "outputId": "fff975a5-bcad-4276-c37a-805b741ca3de"
      },
      "outputs": [
        {
          "name": "stdout",
          "output_type": "stream",
          "text": [
            "481\n",
            "1157\n"
          ]
        }
      ],
      "source": [
        "p,n=0,0\n",
        "for i in range(1638):\n",
        "    if(labels[i]==1):\n",
        "        p+=1\n",
        "    else:\n",
        "        n+=1\n",
        "print(p)\n",
        "print(n)"
      ]
    },
    {
      "cell_type": "code",
      "execution_count": null,
      "metadata": {
        "id": "BXnw9OcfetKF",
        "outputId": "79df0b18-3916-400e-840b-b25c17b8de5f"
      },
      "outputs": [
        {
          "data": {
            "text/plain": [
              "array([[[[-2000.],\n",
              "         [-2000.],\n",
              "         [-2000.],\n",
              "         ...,\n",
              "         [-2000.],\n",
              "         [-2000.],\n",
              "         [-2000.]],\n",
              "\n",
              "        [[-2000.],\n",
              "         [-2000.],\n",
              "         [-2000.],\n",
              "         ...,\n",
              "         [-2000.],\n",
              "         [-2000.],\n",
              "         [-2000.]],\n",
              "\n",
              "        [[-2000.],\n",
              "         [-2000.],\n",
              "         [-2000.],\n",
              "         ...,\n",
              "         [-2000.],\n",
              "         [-2000.],\n",
              "         [-2000.]],\n",
              "\n",
              "        ...,\n",
              "\n",
              "        [[-2000.],\n",
              "         [-2000.],\n",
              "         [-2000.],\n",
              "         ...,\n",
              "         [-2000.],\n",
              "         [-2000.],\n",
              "         [-2000.]],\n",
              "\n",
              "        [[-2000.],\n",
              "         [-2000.],\n",
              "         [-2000.],\n",
              "         ...,\n",
              "         [-2000.],\n",
              "         [-2000.],\n",
              "         [-2000.]],\n",
              "\n",
              "        [[-2000.],\n",
              "         [-2000.],\n",
              "         [-2000.],\n",
              "         ...,\n",
              "         [-2000.],\n",
              "         [-2000.],\n",
              "         [-2000.]]],\n",
              "\n",
              "\n",
              "       [[[-2000.],\n",
              "         [-2000.],\n",
              "         [-2000.],\n",
              "         ...,\n",
              "         [-2000.],\n",
              "         [-2000.],\n",
              "         [-2000.]],\n",
              "\n",
              "        [[-2000.],\n",
              "         [-2000.],\n",
              "         [-2000.],\n",
              "         ...,\n",
              "         [-2000.],\n",
              "         [-2000.],\n",
              "         [-2000.]],\n",
              "\n",
              "        [[-2000.],\n",
              "         [-2000.],\n",
              "         [-2000.],\n",
              "         ...,\n",
              "         [-2000.],\n",
              "         [-2000.],\n",
              "         [-2000.]],\n",
              "\n",
              "        ...,\n",
              "\n",
              "        [[-2000.],\n",
              "         [-2000.],\n",
              "         [-2000.],\n",
              "         ...,\n",
              "         [-2000.],\n",
              "         [-2000.],\n",
              "         [-2000.]],\n",
              "\n",
              "        [[-2000.],\n",
              "         [-2000.],\n",
              "         [-2000.],\n",
              "         ...,\n",
              "         [-2000.],\n",
              "         [-2000.],\n",
              "         [-2000.]],\n",
              "\n",
              "        [[-2000.],\n",
              "         [-2000.],\n",
              "         [-2000.],\n",
              "         ...,\n",
              "         [-2000.],\n",
              "         [-2000.],\n",
              "         [-2000.]]],\n",
              "\n",
              "\n",
              "       [[[-2000.],\n",
              "         [-2000.],\n",
              "         [-2000.],\n",
              "         ...,\n",
              "         [-2000.],\n",
              "         [-2000.],\n",
              "         [-2000.]],\n",
              "\n",
              "        [[-2000.],\n",
              "         [-2000.],\n",
              "         [-2000.],\n",
              "         ...,\n",
              "         [-2000.],\n",
              "         [-2000.],\n",
              "         [-2000.]],\n",
              "\n",
              "        [[-2000.],\n",
              "         [-2000.],\n",
              "         [-2000.],\n",
              "         ...,\n",
              "         [-2000.],\n",
              "         [-2000.],\n",
              "         [-2000.]],\n",
              "\n",
              "        ...,\n",
              "\n",
              "        [[-2000.],\n",
              "         [-2000.],\n",
              "         [-2000.],\n",
              "         ...,\n",
              "         [-2000.],\n",
              "         [-2000.],\n",
              "         [-2000.]],\n",
              "\n",
              "        [[-2000.],\n",
              "         [-2000.],\n",
              "         [-2000.],\n",
              "         ...,\n",
              "         [-2000.],\n",
              "         [-2000.],\n",
              "         [-2000.]],\n",
              "\n",
              "        [[-2000.],\n",
              "         [-2000.],\n",
              "         [-2000.],\n",
              "         ...,\n",
              "         [-2000.],\n",
              "         [-2000.],\n",
              "         [-2000.]]],\n",
              "\n",
              "\n",
              "       ...,\n",
              "\n",
              "\n",
              "       [[[-2000.],\n",
              "         [-2000.],\n",
              "         [-2000.],\n",
              "         ...,\n",
              "         [-2000.],\n",
              "         [-2000.],\n",
              "         [-2000.]],\n",
              "\n",
              "        [[-2000.],\n",
              "         [-2000.],\n",
              "         [-2000.],\n",
              "         ...,\n",
              "         [-2000.],\n",
              "         [-2000.],\n",
              "         [-2000.]],\n",
              "\n",
              "        [[-2000.],\n",
              "         [-2000.],\n",
              "         [-2000.],\n",
              "         ...,\n",
              "         [-2000.],\n",
              "         [-2000.],\n",
              "         [-2000.]],\n",
              "\n",
              "        ...,\n",
              "\n",
              "        [[-2000.],\n",
              "         [-2000.],\n",
              "         [-2000.],\n",
              "         ...,\n",
              "         [-2000.],\n",
              "         [-2000.],\n",
              "         [-2000.]],\n",
              "\n",
              "        [[-2000.],\n",
              "         [-2000.],\n",
              "         [-2000.],\n",
              "         ...,\n",
              "         [-2000.],\n",
              "         [-2000.],\n",
              "         [-2000.]],\n",
              "\n",
              "        [[-2000.],\n",
              "         [-2000.],\n",
              "         [-2000.],\n",
              "         ...,\n",
              "         [-2000.],\n",
              "         [-2000.],\n",
              "         [-2000.]]],\n",
              "\n",
              "\n",
              "       [[[-2000.],\n",
              "         [-2000.],\n",
              "         [-2000.],\n",
              "         ...,\n",
              "         [-2000.],\n",
              "         [-2000.],\n",
              "         [-2000.]],\n",
              "\n",
              "        [[-2000.],\n",
              "         [-2000.],\n",
              "         [-2000.],\n",
              "         ...,\n",
              "         [-2000.],\n",
              "         [-2000.],\n",
              "         [-2000.]],\n",
              "\n",
              "        [[-2000.],\n",
              "         [-2000.],\n",
              "         [-2000.],\n",
              "         ...,\n",
              "         [-2000.],\n",
              "         [-2000.],\n",
              "         [-2000.]],\n",
              "\n",
              "        ...,\n",
              "\n",
              "        [[-2000.],\n",
              "         [-2000.],\n",
              "         [-2000.],\n",
              "         ...,\n",
              "         [-2000.],\n",
              "         [-2000.],\n",
              "         [-2000.]],\n",
              "\n",
              "        [[-2000.],\n",
              "         [-2000.],\n",
              "         [-2000.],\n",
              "         ...,\n",
              "         [-2000.],\n",
              "         [-2000.],\n",
              "         [-2000.]],\n",
              "\n",
              "        [[-2000.],\n",
              "         [-2000.],\n",
              "         [-2000.],\n",
              "         ...,\n",
              "         [-2000.],\n",
              "         [-2000.],\n",
              "         [-2000.]]],\n",
              "\n",
              "\n",
              "       [[[-2000.],\n",
              "         [-2000.],\n",
              "         [-2000.],\n",
              "         ...,\n",
              "         [-2000.],\n",
              "         [-2000.],\n",
              "         [-2000.]],\n",
              "\n",
              "        [[-2000.],\n",
              "         [-2000.],\n",
              "         [-2000.],\n",
              "         ...,\n",
              "         [-2000.],\n",
              "         [-2000.],\n",
              "         [-2000.]],\n",
              "\n",
              "        [[-2000.],\n",
              "         [-2000.],\n",
              "         [-2000.],\n",
              "         ...,\n",
              "         [-2000.],\n",
              "         [-2000.],\n",
              "         [-2000.]],\n",
              "\n",
              "        ...,\n",
              "\n",
              "        [[-2000.],\n",
              "         [-2000.],\n",
              "         [-2000.],\n",
              "         ...,\n",
              "         [-2000.],\n",
              "         [-2000.],\n",
              "         [-2000.]],\n",
              "\n",
              "        [[-2000.],\n",
              "         [-2000.],\n",
              "         [-2000.],\n",
              "         ...,\n",
              "         [-2000.],\n",
              "         [-2000.],\n",
              "         [-2000.]],\n",
              "\n",
              "        [[-2000.],\n",
              "         [-2000.],\n",
              "         [-2000.],\n",
              "         ...,\n",
              "         [-2000.],\n",
              "         [-2000.],\n",
              "         [-2000.]]]])"
            ]
          },
          "execution_count": 4,
          "metadata": {},
          "output_type": "execute_result"
        }
      ],
      "source": [
        "data"
      ]
    },
    {
      "cell_type": "markdown",
      "metadata": {
        "id": "A-wBWcgnyhqE"
      },
      "source": [
        "# Training Models"
      ]
    },
    {
      "cell_type": "code",
      "execution_count": null,
      "metadata": {
        "id": "gnIR-iVgiE96"
      },
      "outputs": [],
      "source": [
        "from sklearn.model_selection import train_test_split\n",
        "(trainX, testX, trainY, testY) = train_test_split(data, labels,\n",
        "                                                  test_size=0.1, stratify=labels, random_state=42,shuffle = True)"
      ]
    },
    {
      "cell_type": "code",
      "execution_count": null,
      "metadata": {
        "id": "9eK25jz_etKH"
      },
      "outputs": [],
      "source": [
        "(trainX, valX, trainY, valY) = train_test_split(trainX, trainY,\n",
        "                                                  test_size=0.1, stratify=trainY, random_state=42,shuffle = True)"
      ]
    },
    {
      "cell_type": "code",
      "execution_count": null,
      "metadata": {
        "id": "4JGu3beKetKH",
        "outputId": "c1f6db59-efdb-4855-bebf-01296d5544be"
      },
      "outputs": [
        {
          "data": {
            "text/plain": [
              "((1326, 256, 256, 1), (1326,))"
            ]
          },
          "execution_count": 7,
          "metadata": {},
          "output_type": "execute_result"
        }
      ],
      "source": [
        "trainX.shape,trainY.shape"
      ]
    },
    {
      "cell_type": "code",
      "execution_count": null,
      "metadata": {
        "id": "zGepu1JFetKI",
        "outputId": "b73581ed-3da0-4b7e-f1d3-a63a0d81b456"
      },
      "outputs": [
        {
          "data": {
            "text/plain": [
              "((148, 256, 256, 1), (148,))"
            ]
          },
          "execution_count": 8,
          "metadata": {},
          "output_type": "execute_result"
        }
      ],
      "source": [
        "valX.shape,valY.shape"
      ]
    },
    {
      "cell_type": "code",
      "execution_count": null,
      "metadata": {
        "id": "bMzxGuCZetKJ",
        "outputId": "c60248d0-165e-45f6-9906-53f8bab621bf"
      },
      "outputs": [
        {
          "data": {
            "text/plain": [
              "((164, 256, 256, 1), (164,))"
            ]
          },
          "execution_count": 9,
          "metadata": {},
          "output_type": "execute_result"
        }
      ],
      "source": [
        "testX.shape,testY.shape"
      ]
    },
    {
      "cell_type": "code",
      "execution_count": null,
      "metadata": {
        "id": "nRawvlAketKJ",
        "outputId": "41afc7ce-cd98-40c7-bc74-4f66c736dbf7"
      },
      "outputs": [
        {
          "data": {
            "text/plain": [
              "<function matplotlib.pyplot.show(close=None, block=None)>"
            ]
          },
          "execution_count": 10,
          "metadata": {},
          "output_type": "execute_result"
        },
        {
          "data": {
            "image/png": "[encoded data removed]",
            "text/plain": [
              "<Figure size 432x288 with 1 Axes>"
            ]
          },
          "metadata": {
            "needs_background": "light"
          },
          "output_type": "display_data"
        }
      ],
      "source": [
        "plt.imshow(trainX[50],cmap = 'gray')\n",
        "plt.show"
      ]
    },
    {
      "cell_type": "code",
      "execution_count": null,
      "metadata": {
        "id": "MakjFLyGiE99"
      },
      "outputs": [],
      "source": [
        "from tensorflow.keras.preprocessing.image import ImageDataGenerator\n",
        "aug_train = ImageDataGenerator(rescale= 1.0/255.,\n",
        "    rotation_range=20,\n",
        "    zoom_range=0.15,\n",
        "    width_shift_range=0.2,\n",
        "    height_shift_range=0.2,\n",
        "    shear_range=0.15,\n",
        "    horizontal_flip=True,\n",
        "    fill_mode=\"nearest\")\n",
        "aug_test=ImageDataGenerator(rescale=1.0/255)"
      ]
    },
    {
      "cell_type": "code",
      "execution_count": null,
      "metadata": {
        "id": "aUJOzUi1etKK"
      },
      "outputs": [],
      "source": [
        "from tensorflow.keras.models import Sequential\n",
        "from tensorflow.keras.layers import Conv2D\n",
        "from tensorflow.keras.layers import MaxPooling2D\n",
        "from tensorflow.keras.layers import Flatten\n",
        "from tensorflow.keras.layers import Dense\n",
        "from tensorflow.keras.layers import Dropout\n",
        "\n",
        "classifier_2 = Sequential()\n",
        "\n",
        "# Step 1 - Convolution\n",
        "classifier_2.add(Conv2D(32, (3, 3), input_shape = (256, 256, 1), activation = 'relu'))\n",
        "\n",
        "# Step 2 - Pooling\n",
        "classifier_2.add(MaxPooling2D(pool_size = (2, 2)))\n",
        "\n",
        "# Adding a second convolutional layer\n",
        "classifier_2.add(Conv2D(32, (3, 3), activation = 'relu'))\n",
        "classifier_2.add(MaxPooling2D(pool_size = (2, 2)))\n",
        "# Adding a third convolutional layer\n",
        "classifier_2.add(Conv2D(64, (3, 3), activation = 'relu'))\n",
        "classifier_2.add(MaxPooling2D(pool_size = (2, 2)))\n",
        "# Adding a forth convolutional layer\n",
        "classifier_2.add(Conv2D(64, (3, 3), activation = 'relu'))\n",
        "classifier_2.add(MaxPooling2D(pool_size = (2, 2)))\n",
        "# Adding a forth convolutional layer\n",
        "classifier_2.add(Conv2D(128, (3, 3), activation = 'relu'))\n",
        "classifier_2.add(MaxPooling2D(pool_size = (2, 2)))\n",
        "# Adding a forth convolutional layer\n",
        "classifier_2.add(Conv2D(128, (3, 3), activation = 'relu'))\n",
        "classifier_2.add(MaxPooling2D(pool_size = (2, 2)))\n",
        "\n",
        "# Step 3 - Flattening\n",
        "classifier_2.add(Flatten())\n",
        "\n",
        "# Step 4 - Full connection\n",
        "classifier_2.add(Dense(units = 512, activation = 'relu'))\n",
        "#classifier_2.add(Dense(units = 512, activation = 'relu'))\n",
        "#classifier_2.add(Dense(units = 512, activation = 'relu'))\n",
        "classifier_2.add(Dense(units = 1, activation = 'sigmoid'))\n"
      ]
    },
    {
      "cell_type": "code",
      "execution_count": null,
      "metadata": {
        "id": "w92Q081aetKL"
      },
      "outputs": [],
      "source": [
        "from tensorflow.keras.optimizers import SGD,Adam\n",
        "classifier_2.compile(optimizer = Adam(lr=0.001), loss = 'binary_crossentropy', metrics = ['acc'])\n",
        "#classifier_2.compile(optimizer = SGD(lr=0.001,momentum=0.9), loss = 'binary_crossentropy', metrics = ['acc'])"
      ]
    },
    {
      "cell_type": "code",
      "execution_count": null,
      "metadata": {
        "colab": {
          "base_uri": "https://localhost:8080/",
          "height": 722
        },
        "id": "YIux9k7_AtOA",
        "outputId": "1f0d1e37-17a9-44c0-b1a5-f40f88b3761b"
      },
      "outputs": [
        {
          "name": "stdout",
          "output_type": "stream",
          "text": [
            "Model: \"sequential_1\"\n",
            "_________________________________________________________________\n",
            "Layer (type)                 Output Shape              Param #   \n",
            "=================================================================\n",
            "conv2d_6 (Conv2D)            (None, 254, 254, 32)      320       \n",
            "_________________________________________________________________\n",
            "max_pooling2d_6 (MaxPooling2 (None, 127, 127, 32)      0         \n",
            "_________________________________________________________________\n",
            "conv2d_7 (Conv2D)            (None, 125, 125, 32)      9248      \n",
            "_________________________________________________________________\n",
            "max_pooling2d_7 (MaxPooling2 (None, 62, 62, 32)        0         \n",
            "_________________________________________________________________\n",
            "conv2d_8 (Conv2D)            (None, 60, 60, 64)        18496     \n",
            "_________________________________________________________________\n",
            "max_pooling2d_8 (MaxPooling2 (None, 30, 30, 64)        0         \n",
            "_________________________________________________________________\n",
            "conv2d_9 (Conv2D)            (None, 28, 28, 64)        36928     \n",
            "_________________________________________________________________\n",
            "max_pooling2d_9 (MaxPooling2 (None, 14, 14, 64)        0         \n",
            "_________________________________________________________________\n",
            "conv2d_10 (Conv2D)           (None, 12, 12, 128)       73856     \n",
            "_________________________________________________________________\n",
            "max_pooling2d_10 (MaxPooling (None, 6, 6, 128)         0         \n",
            "_________________________________________________________________\n",
            "conv2d_11 (Conv2D)           (None, 4, 4, 128)         147584    \n",
            "_________________________________________________________________\n",
            "max_pooling2d_11 (MaxPooling (None, 2, 2, 128)         0         \n",
            "_________________________________________________________________\n",
            "flatten_1 (Flatten)          (None, 512)               0         \n",
            "_________________________________________________________________\n",
            "dense_2 (Dense)              (None, 512)               262656    \n",
            "_________________________________________________________________\n",
            "dense_3 (Dense)              (None, 1)                 513       \n",
            "=================================================================\n",
            "Total params: 549,601\n",
            "Trainable params: 549,601\n",
            "Non-trainable params: 0\n",
            "_________________________________________________________________\n"
          ]
        }
      ],
      "source": [
        "classifier_2.summary()"
      ]
    },
    {
      "cell_type": "code",
      "execution_count": null,
      "metadata": {
        "id": "Vil_yYPjAyGg"
      },
      "outputs": [],
      "source": [
        "import tensorflow.keras as k"
      ]
    },
    {
      "cell_type": "code",
      "execution_count": null,
      "metadata": {
        "id": "KFGvmMemA54C"
      },
      "outputs": [],
      "source": [
        "import time\n",
        "NAME = \"test_6-{}\".format(int(time.time()))"
      ]
    },
    {
      "cell_type": "code",
      "execution_count": null,
      "metadata": {
        "id": "HjGMkHRdetKM"
      },
      "outputs": [],
      "source": [
        "callbacks_1 = [\n",
        "    #k.callbacks.EarlyStopping(patience=5, monitor='val_loss'),\n",
        "    k.callbacks.TensorBoard(log_dir='logs\\{}'.format(NAME)),\n",
        "    k.callbacks.ModelCheckpoint('test_model_23.h5', save_best_only=True),\n",
        "    k.callbacks.ReduceLROnPlateau()]"
      ]
    },
    {
      "cell_type": "code",
      "execution_count": null,
      "metadata": {
        "id": "KRZIES3zetKM",
        "outputId": "80a2cf7b-9f7f-42ab-cd16-15612b79404e"
      },
      "outputs": [
        {
          "data": {
            "text/plain": [
              "41"
            ]
          },
          "execution_count": 19,
          "metadata": {},
          "output_type": "execute_result"
        }
      ],
      "source": [
        "steps=trainX.shape[0]//32\n",
        "steps"
      ]
    },
    {
      "cell_type": "code",
      "execution_count": null,
      "metadata": {
        "scrolled": true,
        "id": "kaj0twzqetKN",
        "outputId": "5b465657-7604-4dcb-9d7f-13da07e78db5"
      },
      "outputs": [
        {
          "name": "stdout",
          "output_type": "stream",
          "text": [
            "Epoch 1/50\n",
            "40/41 [============================>.] - ETA: 0s - loss: 0.1475 - acc: 0.9445Epoch 1/50\n",
            "41/41 [==============================] - 21s 508ms/step - loss: 0.1474 - acc: 0.9444 - val_loss: 0.0774 - val_acc: 0.9730\n",
            "Epoch 2/50\n",
            "40/41 [============================>.] - ETA: 0s - loss: 0.1558 - acc: 0.9398Epoch 1/50\n",
            "41/41 [==============================] - 16s 389ms/step - loss: 0.1544 - acc: 0.9405 - val_loss: 0.0750 - val_acc: 0.9595\n",
            "Epoch 3/50\n",
            "40/41 [============================>.] - ETA: 0s - loss: 0.1500 - acc: 0.9437Epoch 1/50\n",
            "41/41 [==============================] - 17s 426ms/step - loss: 0.1493 - acc: 0.9444 - val_loss: 0.0647 - val_acc: 0.9662\n",
            "Epoch 4/50\n",
            "40/41 [============================>.] - ETA: 0s - loss: 0.1229 - acc: 0.9485Epoch 1/50\n",
            "41/41 [==============================] - 16s 380ms/step - loss: 0.1304 - acc: 0.9467 - val_loss: 0.0503 - val_acc: 0.9865\n",
            "Epoch 5/50\n",
            "40/41 [============================>.] - ETA: 0s - loss: 0.1765 - acc: 0.9239Epoch 1/50\n",
            "41/41 [==============================] - 15s 376ms/step - loss: 0.1761 - acc: 0.9235 - val_loss: 0.0886 - val_acc: 0.9527\n",
            "Epoch 6/50\n",
            "40/41 [============================>.] - ETA: 0s - loss: 0.1150 - acc: 0.9578Epoch 1/50\n",
            "41/41 [==============================] - 16s 394ms/step - loss: 0.1186 - acc: 0.9573 - val_loss: 0.0544 - val_acc: 0.9662\n",
            "Epoch 7/50\n",
            "40/41 [============================>.] - ETA: 0s - loss: 0.1342 - acc: 0.9445Epoch 1/50\n",
            "41/41 [==============================] - 15s 375ms/step - loss: 0.1345 - acc: 0.9444 - val_loss: 0.0802 - val_acc: 0.9797\n",
            "Epoch 8/50\n",
            "40/41 [============================>.] - ETA: 0s - loss: 0.1279 - acc: 0.9484Epoch 1/50\n",
            "41/41 [==============================] - 15s 378ms/step - loss: 0.1254 - acc: 0.9490 - val_loss: 0.0482 - val_acc: 0.9865\n",
            "Epoch 9/50\n",
            "40/41 [============================>.] - ETA: 0s - loss: 0.1321 - acc: 0.9461Epoch 1/50\n",
            "41/41 [==============================] - 16s 381ms/step - loss: 0.1310 - acc: 0.9459 - val_loss: 0.0696 - val_acc: 0.9730\n",
            "Epoch 10/50\n",
            "40/41 [============================>.] - ETA: 0s - loss: 0.1213 - acc: 0.9525Epoch 1/50\n",
            "41/41 [==============================] - 16s 385ms/step - loss: 0.1224 - acc: 0.9529 - val_loss: 0.1012 - val_acc: 0.9595\n",
            "Epoch 11/50\n",
            "40/41 [============================>.] - ETA: 0s - loss: 0.1411 - acc: 0.9461Epoch 1/50\n",
            "41/41 [==============================] - 16s 381ms/step - loss: 0.1403 - acc: 0.9459 - val_loss: 0.0908 - val_acc: 0.9662\n",
            "Epoch 12/50\n",
            "40/41 [============================>.] - ETA: 0s - loss: 0.1070 - acc: 0.9606Epoch 1/50\n",
            "41/41 [==============================] - 15s 372ms/step - loss: 0.1062 - acc: 0.9608 - val_loss: 0.0623 - val_acc: 0.9730\n",
            "Epoch 13/50\n",
            "40/41 [============================>.] - ETA: 0s - loss: 0.1118 - acc: 0.9572Epoch 1/50\n",
            "41/41 [==============================] - 16s 392ms/step - loss: 0.1113 - acc: 0.9575 - val_loss: 0.0500 - val_acc: 0.9730\n",
            "Epoch 14/50\n",
            "40/41 [============================>.] - ETA: 0s - loss: 0.1192 - acc: 0.9570Epoch 1/50\n",
            "41/41 [==============================] - 16s 382ms/step - loss: 0.1215 - acc: 0.9558 - val_loss: 0.0428 - val_acc: 0.9865\n",
            "Epoch 15/50\n",
            "40/41 [============================>.] - ETA: 0s - loss: 0.1382 - acc: 0.9501Epoch 1/50\n",
            "41/41 [==============================] - 15s 377ms/step - loss: 0.1388 - acc: 0.9498 - val_loss: 0.0570 - val_acc: 0.9730\n",
            "Epoch 16/50\n",
            "40/41 [============================>.] - ETA: 0s - loss: 0.1283 - acc: 0.9502Epoch 1/50\n",
            "41/41 [==============================] - 15s 368ms/step - loss: 0.1298 - acc: 0.9498 - val_loss: 0.0672 - val_acc: 0.9730\n",
            "Epoch 17/50\n",
            "40/41 [============================>.] - ETA: 0s - loss: 0.1225 - acc: 0.9492Epoch 1/50\n",
            "41/41 [==============================] - 16s 384ms/step - loss: 0.1219 - acc: 0.9489 - val_loss: 0.0973 - val_acc: 0.9662\n",
            "Epoch 18/50\n",
            "40/41 [============================>.] - ETA: 0s - loss: 0.1369 - acc: 0.9493Epoch 1/50\n",
            "41/41 [==============================] - 16s 379ms/step - loss: 0.1392 - acc: 0.9474 - val_loss: 0.0351 - val_acc: 1.0000\n",
            "Epoch 19/50\n",
            "40/41 [============================>.] - ETA: 0s - loss: 0.1090 - acc: 0.9582Epoch 1/50\n",
            "41/41 [==============================] - 15s 376ms/step - loss: 0.1097 - acc: 0.9585 - val_loss: 0.0413 - val_acc: 0.9865\n",
            "Epoch 20/50\n",
            "40/41 [============================>.] - ETA: 0s - loss: 0.1000 - acc: 0.9628Epoch 1/50\n",
            "41/41 [==============================] - 16s 381ms/step - loss: 0.1008 - acc: 0.9621 - val_loss: 0.0340 - val_acc: 0.9865\n",
            "Epoch 21/50\n",
            "40/41 [============================>.] - ETA: 0s - loss: 0.1340 - acc: 0.9477Epoch 1/50\n",
            "41/41 [==============================] - 15s 378ms/step - loss: 0.1375 - acc: 0.9467 - val_loss: 0.0295 - val_acc: 0.9865\n",
            "Epoch 22/50\n",
            "40/41 [============================>.] - ETA: 0s - loss: 0.1027 - acc: 0.9547Epoch 1/50\n",
            "41/41 [==============================] - 16s 379ms/step - loss: 0.1018 - acc: 0.9558 - val_loss: 0.0375 - val_acc: 0.9797\n",
            "Epoch 23/50\n",
            "40/41 [============================>.] - ETA: 0s - loss: 0.1161 - acc: 0.9542Epoch 1/50\n",
            "41/41 [==============================] - 15s 372ms/step - loss: 0.1218 - acc: 0.9538 - val_loss: 0.0509 - val_acc: 0.9797\n",
            "Epoch 24/50\n",
            "40/41 [============================>.] - ETA: 0s - loss: 0.1045 - acc: 0.9547Epoch 1/50\n",
            "41/41 [==============================] - 16s 384ms/step - loss: 0.1037 - acc: 0.9543 - val_loss: 0.0311 - val_acc: 0.9932\n",
            "Epoch 25/50\n",
            "40/41 [============================>.] - ETA: 0s - loss: 0.1108 - acc: 0.9596Epoch 1/50\n",
            "41/41 [==============================] - 16s 379ms/step - loss: 0.1097 - acc: 0.9606 - val_loss: 0.0457 - val_acc: 0.9797\n",
            "Epoch 26/50\n",
            "40/41 [============================>.] - ETA: 0s - loss: 0.0927 - acc: 0.9582Epoch 1/50\n",
            "41/41 [==============================] - 15s 373ms/step - loss: 0.0908 - acc: 0.9592 - val_loss: 0.0377 - val_acc: 0.9797\n",
            "Epoch 27/50\n",
            "40/41 [============================>.] - ETA: 0s - loss: 0.1359 - acc: 0.9438Epoch 1/50\n",
            "41/41 [==============================] - 17s 420ms/step - loss: 0.1342 - acc: 0.9444 - val_loss: 0.0646 - val_acc: 0.9730\n",
            "Epoch 28/50\n",
            "40/41 [============================>.] - ETA: 0s - loss: 0.1095 - acc: 0.9620Epoch 1/50\n",
            "41/41 [==============================] - 16s 378ms/step - loss: 0.1104 - acc: 0.9614 - val_loss: 0.0395 - val_acc: 0.9865\n",
            "Epoch 29/50\n",
            "40/41 [============================>.] - ETA: 0s - loss: 0.0890 - acc: 0.9646Epoch 1/50\n",
            "41/41 [==============================] - 15s 375ms/step - loss: 0.0904 - acc: 0.9639 - val_loss: 0.0263 - val_acc: 0.9932\n",
            "Epoch 30/50\n",
            "40/41 [============================>.] - ETA: 0s - loss: 0.1199 - acc: 0.9540Epoch 1/50\n",
            "41/41 [==============================] - 16s 381ms/step - loss: 0.1197 - acc: 0.9544 - val_loss: 0.0564 - val_acc: 0.9865\n",
            "Epoch 31/50\n",
            "40/41 [============================>.] - ETA: 0s - loss: 0.0968 - acc: 0.9641Epoch 1/50\n",
            "41/41 [==============================] - 16s 383ms/step - loss: 0.0982 - acc: 0.9627 - val_loss: 0.0453 - val_acc: 0.9797\n",
            "Epoch 32/50\n",
            "40/41 [============================>.] - ETA: 0s - loss: 0.0930 - acc: 0.9620Epoch 1/50\n",
            "41/41 [==============================] - 15s 375ms/step - loss: 0.0924 - acc: 0.9621 - val_loss: 0.0272 - val_acc: 0.9932\n",
            "Epoch 33/50\n",
            "40/41 [============================>.] - ETA: 0s - loss: 0.0865 - acc: 0.9715Epoch 1/50\n",
            "41/41 [==============================] - 15s 374ms/step - loss: 0.0878 - acc: 0.9706 - val_loss: 0.0465 - val_acc: 0.9865\n",
            "Epoch 34/50\n",
            "40/41 [============================>.] - ETA: 0s - loss: 0.1042 - acc: 0.9606Epoch 1/50\n",
            "41/41 [==============================] - 15s 377ms/step - loss: 0.1047 - acc: 0.9608 - val_loss: 0.0432 - val_acc: 0.9797\n",
            "Epoch 35/50\n",
            "40/41 [============================>.] - ETA: 0s - loss: 0.0986 - acc: 0.9625Epoch 1/50\n",
            "41/41 [==============================] - 16s 384ms/step - loss: 0.0987 - acc: 0.9627 - val_loss: 0.0343 - val_acc: 0.9932\n",
            "Epoch 36/50\n",
            "40/41 [============================>.] - ETA: 0s - loss: 0.1112 - acc: 0.9564Epoch 1/50\n",
            "41/41 [==============================] - 16s 378ms/step - loss: 0.1121 - acc: 0.9560 - val_loss: 0.0832 - val_acc: 0.9662\n",
            "Epoch 37/50\n",
            "40/41 [============================>.] - ETA: 0s - loss: 0.1159 - acc: 0.9517Epoch 1/50\n",
            "41/41 [==============================] - 16s 396ms/step - loss: 0.1138 - acc: 0.9529 - val_loss: 0.0593 - val_acc: 0.9797\n"
          ]
        },
        {
          "name": "stdout",
          "output_type": "stream",
          "text": [
            "Epoch 38/50\n",
            "40/41 [============================>.] - ETA: 0s - loss: 0.1130 - acc: 0.9574Epoch 1/50\n",
            "41/41 [==============================] - 15s 370ms/step - loss: 0.1113 - acc: 0.9585 - val_loss: 0.0526 - val_acc: 0.9797\n",
            "Epoch 39/50\n",
            "40/41 [============================>.] - ETA: 0s - loss: 0.0957 - acc: 0.9672Epoch 1/50\n",
            "41/41 [==============================] - 16s 388ms/step - loss: 0.0942 - acc: 0.9680 - val_loss: 0.0476 - val_acc: 0.9932\n",
            "Epoch 40/50\n",
            "40/41 [============================>.] - ETA: 0s - loss: 0.1123 - acc: 0.9572Epoch 1/50\n",
            "41/41 [==============================] - 15s 376ms/step - loss: 0.1116 - acc: 0.9575 - val_loss: 0.0388 - val_acc: 0.9797\n",
            "Epoch 41/50\n",
            "40/41 [============================>.] - ETA: 0s - loss: 0.0800 - acc: 0.9659Epoch 1/50\n",
            "41/41 [==============================] - 15s 375ms/step - loss: 0.0841 - acc: 0.9645 - val_loss: 0.0418 - val_acc: 0.9865\n",
            "Epoch 42/50\n",
            "40/41 [============================>.] - ETA: 0s - loss: 0.0943 - acc: 0.9667Epoch 1/50\n",
            "41/41 [==============================] - 15s 375ms/step - loss: 0.0933 - acc: 0.9668 - val_loss: 0.0310 - val_acc: 0.9932\n",
            "Epoch 43/50\n",
            "40/41 [============================>.] - ETA: 0s - loss: 0.0925 - acc: 0.9659Epoch 1/50\n",
            "41/41 [==============================] - 16s 385ms/step - loss: 0.0926 - acc: 0.9660 - val_loss: 0.0312 - val_acc: 0.9932\n",
            "Epoch 44/50\n",
            "40/41 [============================>.] - ETA: 0s - loss: 0.0869 - acc: 0.9651Epoch 1/50\n",
            "41/41 [==============================] - 15s 376ms/step - loss: 0.0869 - acc: 0.9652 - val_loss: 0.0300 - val_acc: 0.9932\n",
            "Epoch 45/50\n",
            "40/41 [============================>.] - ETA: 0s - loss: 0.0812 - acc: 0.9739Epoch 1/50\n",
            "41/41 [==============================] - 16s 378ms/step - loss: 0.0820 - acc: 0.9737 - val_loss: 0.0299 - val_acc: 0.9932\n",
            "Epoch 46/50\n",
            "40/41 [============================>.] - ETA: 0s - loss: 0.0935 - acc: 0.9656Epoch 1/50\n",
            "41/41 [==============================] - 16s 383ms/step - loss: 0.0927 - acc: 0.9657 - val_loss: 0.0306 - val_acc: 0.9932\n",
            "Epoch 47/50\n",
            "40/41 [============================>.] - ETA: 0s - loss: 0.0948 - acc: 0.9590Epoch 1/50\n",
            "41/41 [==============================] - 15s 373ms/step - loss: 0.0930 - acc: 0.9600 - val_loss: 0.0333 - val_acc: 0.9932\n",
            "Epoch 48/50\n",
            "40/41 [============================>.] - ETA: 0s - loss: 0.0756 - acc: 0.9699Epoch 1/50\n",
            "41/41 [==============================] - 16s 385ms/step - loss: 0.0764 - acc: 0.9699 - val_loss: 0.0302 - val_acc: 0.9932\n",
            "Epoch 49/50\n",
            "40/41 [============================>.] - ETA: 0s - loss: 0.0852 - acc: 0.9596Epoch 1/50\n",
            "41/41 [==============================] - 16s 382ms/step - loss: 0.0870 - acc: 0.9590 - val_loss: 0.0262 - val_acc: 1.0000\n",
            "Epoch 50/50\n",
            "40/41 [============================>.] - ETA: 0s - loss: 0.0754 - acc: 0.9675Epoch 1/50\n",
            "41/41 [==============================] - 15s 376ms/step - loss: 0.0764 - acc: 0.9675 - val_loss: 0.0303 - val_acc: 0.9932\n"
          ]
        }
      ],
      "source": [
        "hist_sgd = classifier_2.fit(aug_train.flow(trainX, trainY, batch_size=32), steps_per_epoch=steps, epochs = 50, verbose = 1,\n",
        "                        validation_data = aug_test.flow(valX, valY, batch_size=32), callbacks=callbacks_1)"
      ]
    },
    {
      "cell_type": "code",
      "execution_count": null,
      "metadata": {
        "id": "vF1lYP1SetKN",
        "outputId": "e5f1d5cb-4b28-461f-fa89-905d6c432fdf"
      },
      "outputs": [
        {
          "name": "stdout",
          "output_type": "stream",
          "text": [
            "Epoch 1/50\n",
            "40/41 [============================>.] - ETA: 0s - loss: 0.1752 - acc: 0.9295Epoch 1/50\n",
            "41/41 [==============================] - 16s 382ms/step - loss: 0.1744 - acc: 0.9289 - val_loss: 0.0763 - val_acc: 0.9730\n",
            "Epoch 2/50\n",
            "40/41 [============================>.] - ETA: 0s - loss: 0.1180 - acc: 0.9477Epoch 1/50\n",
            "41/41 [==============================] - 16s 378ms/step - loss: 0.1196 - acc: 0.9474 - val_loss: 0.0530 - val_acc: 0.9797\n",
            "Epoch 3/50\n",
            "40/41 [============================>.] - ETA: 0s - loss: 0.1401 - acc: 0.9501Epoch 1/50\n",
            "41/41 [==============================] - 15s 374ms/step - loss: 0.1382 - acc: 0.9505 - val_loss: 0.0746 - val_acc: 0.9662\n",
            "Epoch 4/50\n",
            "40/41 [============================>.] - ETA: 0s - loss: 0.1081 - acc: 0.9556Epoch 1/50\n",
            "41/41 [==============================] - 15s 374ms/step - loss: 0.1094 - acc: 0.9544 - val_loss: 0.0691 - val_acc: 0.9730\n",
            "Epoch 5/50\n",
            "40/41 [============================>.] - ETA: 0s - loss: 0.1099 - acc: 0.9532Epoch 1/50\n",
            "41/41 [==============================] - 15s 377ms/step - loss: 0.1111 - acc: 0.9536 - val_loss: 0.0614 - val_acc: 0.9662\n",
            "Epoch 6/50\n",
            "40/41 [============================>.] - ETA: 0s - loss: 0.1347 - acc: 0.9501Epoch 1/50\n",
            "41/41 [==============================] - 15s 372ms/step - loss: 0.1341 - acc: 0.9490 - val_loss: 0.0716 - val_acc: 0.9730\n",
            "Epoch 7/50\n",
            "40/41 [============================>.] - ETA: 0s - loss: 0.1131 - acc: 0.9548Epoch 1/50\n",
            "41/41 [==============================] - 15s 376ms/step - loss: 0.1121 - acc: 0.9552 - val_loss: 0.0264 - val_acc: 1.0000\n",
            "Epoch 8/50\n",
            "40/41 [============================>.] - ETA: 0s - loss: 0.0890 - acc: 0.9620Epoch 1/50\n",
            "41/41 [==============================] - 15s 375ms/step - loss: 0.0910 - acc: 0.9614 - val_loss: 0.0366 - val_acc: 0.9797\n",
            "Epoch 9/50\n",
            "40/41 [============================>.] - ETA: 0s - loss: 0.1055 - acc: 0.9564Epoch 1/50\n",
            "41/41 [==============================] - 15s 373ms/step - loss: 0.1077 - acc: 0.9552 - val_loss: 0.0809 - val_acc: 0.9595\n",
            "Epoch 10/50\n",
            "40/41 [============================>.] - ETA: 0s - loss: 0.1093 - acc: 0.9548Epoch 1/50\n",
            "41/41 [==============================] - 16s 380ms/step - loss: 0.1098 - acc: 0.9552 - val_loss: 0.1228 - val_acc: 0.9324\n",
            "Epoch 11/50\n",
            "40/41 [============================>.] - ETA: 0s - loss: 0.1053 - acc: 0.9620Epoch 1/50\n",
            "41/41 [==============================] - 15s 376ms/step - loss: 0.1030 - acc: 0.9629 - val_loss: 0.0406 - val_acc: 0.9932\n",
            "Epoch 12/50\n",
            "40/41 [============================>.] - ETA: 0s - loss: 0.0871 - acc: 0.9667Epoch 1/50\n",
            "41/41 [==============================] - 15s 377ms/step - loss: 0.0893 - acc: 0.9660 - val_loss: 0.0401 - val_acc: 0.9797\n",
            "Epoch 13/50\n",
            "40/41 [============================>.] - ETA: 0s - loss: 0.0815 - acc: 0.9675Epoch 1/50\n",
            "41/41 [==============================] - 16s 378ms/step - loss: 0.0804 - acc: 0.9683 - val_loss: 0.0331 - val_acc: 0.9865\n",
            "Epoch 14/50\n",
            "40/41 [============================>.] - ETA: 0s - loss: 0.0899 - acc: 0.9664Epoch 1/50\n",
            "41/41 [==============================] - 16s 380ms/step - loss: 0.0886 - acc: 0.9672 - val_loss: 0.0369 - val_acc: 0.9865\n",
            "Epoch 15/50\n",
            "40/41 [============================>.] - ETA: 0s - loss: 0.0798 - acc: 0.9735Epoch 1/50\n",
            "41/41 [==============================] - 15s 369ms/step - loss: 0.0799 - acc: 0.9726 - val_loss: 0.1184 - val_acc: 0.9527\n",
            "Epoch 16/50\n",
            "40/41 [============================>.] - ETA: 0s - loss: 0.1268 - acc: 0.9477Epoch 1/50\n",
            "41/41 [==============================] - 16s 380ms/step - loss: 0.1281 - acc: 0.9474 - val_loss: 0.0545 - val_acc: 0.9730\n",
            "Epoch 17/50\n",
            "40/41 [============================>.] - ETA: 0s - loss: 0.0925 - acc: 0.9667Epoch 1/50\n",
            "41/41 [==============================] - 16s 386ms/step - loss: 0.0926 - acc: 0.9668 - val_loss: 0.0405 - val_acc: 0.9797\n",
            "Epoch 18/50\n",
            "40/41 [============================>.] - ETA: 0s - loss: 0.0801 - acc: 0.9699Epoch 1/50\n",
            "41/41 [==============================] - 15s 377ms/step - loss: 0.0790 - acc: 0.9706 - val_loss: 0.0302 - val_acc: 0.9932\n",
            "Epoch 19/50\n",
            "40/41 [============================>.] - ETA: 0s - loss: 0.0485 - acc: 0.9831Epoch 1/50\n",
            "41/41 [==============================] - 15s 375ms/step - loss: 0.0475 - acc: 0.9835 - val_loss: 0.0249 - val_acc: 0.9932\n",
            "Epoch 20/50\n",
            "40/41 [============================>.] - ETA: 0s - loss: 0.0529 - acc: 0.9810Epoch 1/50\n",
            "41/41 [==============================] - 15s 377ms/step - loss: 0.0521 - acc: 0.9815 - val_loss: 0.0279 - val_acc: 0.9932\n",
            "Epoch 21/50\n",
            "40/41 [============================>.] - ETA: 0s - loss: 0.0484 - acc: 0.9857Epoch 1/50\n",
            "41/41 [==============================] - 15s 378ms/step - loss: 0.0478 - acc: 0.9861 - val_loss: 0.0237 - val_acc: 0.9932\n",
            "Epoch 22/50\n",
            "40/41 [============================>.] - ETA: 0s - loss: 0.0533 - acc: 0.9820Epoch 1/50\n",
            "41/41 [==============================] - 16s 381ms/step - loss: 0.0523 - acc: 0.9825 - val_loss: 0.0247 - val_acc: 0.9932\n",
            "Epoch 23/50\n",
            "40/41 [============================>.] - ETA: 0s - loss: 0.0437 - acc: 0.9865Epoch 1/50\n",
            "41/41 [==============================] - 16s 383ms/step - loss: 0.0444 - acc: 0.9861 - val_loss: 0.0332 - val_acc: 0.9932\n",
            "Epoch 24/50\n",
            "40/41 [============================>.] - ETA: 0s - loss: 0.0492 - acc: 0.9818Epoch 1/50\n",
            "41/41 [==============================] - 15s 376ms/step - loss: 0.0491 - acc: 0.9815 - val_loss: 0.0290 - val_acc: 0.9932\n",
            "Epoch 25/50\n",
            "40/41 [============================>.] - ETA: 0s - loss: 0.0343 - acc: 0.9881Epoch 1/50\n",
            "41/41 [==============================] - 15s 375ms/step - loss: 0.0348 - acc: 0.9884 - val_loss: 0.0301 - val_acc: 0.9932\n",
            "Epoch 26/50\n",
            "40/41 [============================>.] - ETA: 0s - loss: 0.0441 - acc: 0.9839Epoch 1/50\n",
            "41/41 [==============================] - 15s 370ms/step - loss: 0.0438 - acc: 0.9835 - val_loss: 0.0299 - val_acc: 0.9932\n",
            "Epoch 27/50\n",
            "40/41 [============================>.] - ETA: 0s - loss: 0.0410 - acc: 0.9857Epoch 1/50\n",
            "41/41 [==============================] - 15s 372ms/step - loss: 0.0414 - acc: 0.9861 - val_loss: 0.0461 - val_acc: 0.9932\n",
            "Epoch 28/50\n",
            "40/41 [============================>.] - ETA: 0s - loss: 0.0324 - acc: 0.9873Epoch 1/50\n",
            "41/41 [==============================] - 16s 385ms/step - loss: 0.0345 - acc: 0.9861 - val_loss: 0.0274 - val_acc: 0.9865\n",
            "Epoch 29/50\n",
            "40/41 [============================>.] - ETA: 0s - loss: 0.0366 - acc: 0.9857Epoch 1/50\n",
            "41/41 [==============================] - 16s 392ms/step - loss: 0.0359 - acc: 0.9861 - val_loss: 0.0291 - val_acc: 0.9865\n",
            "Epoch 30/50\n",
            "40/41 [============================>.] - ETA: 0s - loss: 0.0414 - acc: 0.9828Epoch 1/50\n",
            "41/41 [==============================] - 16s 380ms/step - loss: 0.0405 - acc: 0.9832 - val_loss: 0.0278 - val_acc: 0.9932\n",
            "Epoch 31/50\n",
            "40/41 [============================>.] - ETA: 0s - loss: 0.0413 - acc: 0.9871Epoch 1/50\n",
            "41/41 [==============================] - 15s 374ms/step - loss: 0.0409 - acc: 0.9875 - val_loss: 0.0368 - val_acc: 0.9865\n",
            "Epoch 32/50\n",
            "40/41 [============================>.] - ETA: 0s - loss: 0.0406 - acc: 0.9852Epoch 1/50\n",
            "41/41 [==============================] - 16s 398ms/step - loss: 0.0427 - acc: 0.9840 - val_loss: 0.0323 - val_acc: 0.9865\n",
            "Epoch 33/50\n",
            "40/41 [============================>.] - ETA: 0s - loss: 0.0393 - acc: 0.9865Epoch 1/50\n",
            "41/41 [==============================] - 15s 373ms/step - loss: 0.0388 - acc: 0.9869 - val_loss: 0.0309 - val_acc: 0.9865\n",
            "Epoch 34/50\n",
            "40/41 [============================>.] - ETA: 0s - loss: 0.0449 - acc: 0.9802Epoch 1/50\n",
            "41/41 [==============================] - 16s 401ms/step - loss: 0.0456 - acc: 0.9799 - val_loss: 0.0288 - val_acc: 0.9865\n",
            "Epoch 35/50\n",
            "40/41 [============================>.] - ETA: 0s - loss: 0.0316 - acc: 0.9905Epoch 1/50\n",
            "41/41 [==============================] - 15s 372ms/step - loss: 0.0310 - acc: 0.9907 - val_loss: 0.0293 - val_acc: 0.9932\n",
            "Epoch 36/50\n",
            "40/41 [============================>.] - ETA: 0s - loss: 0.0413 - acc: 0.9826Epoch 1/50\n",
            "41/41 [==============================] - 17s 405ms/step - loss: 0.0404 - acc: 0.9830 - val_loss: 0.0284 - val_acc: 0.9932\n",
            "Epoch 37/50\n",
            "40/41 [============================>.] - ETA: 0s - loss: 0.0375 - acc: 0.9873Epoch 1/50\n",
            "41/41 [==============================] - 16s 394ms/step - loss: 0.0380 - acc: 0.9869 - val_loss: 0.0282 - val_acc: 0.9932\n"
          ]
        },
        {
          "name": "stdout",
          "output_type": "stream",
          "text": [
            "Epoch 38/50\n",
            "40/41 [============================>.] - ETA: 0s - loss: 0.0437 - acc: 0.9802Epoch 1/50\n",
            "41/41 [==============================] - 16s 383ms/step - loss: 0.0429 - acc: 0.9807 - val_loss: 0.0315 - val_acc: 0.9865\n",
            "Epoch 39/50\n",
            "40/41 [============================>.] - ETA: 0s - loss: 0.0386 - acc: 0.9849Epoch 1/50\n",
            "41/41 [==============================] - 15s 375ms/step - loss: 0.0385 - acc: 0.9845 - val_loss: 0.0271 - val_acc: 0.9865\n",
            "Epoch 40/50\n",
            "40/41 [============================>.] - ETA: 0s - loss: 0.0350 - acc: 0.9873Epoch 1/50\n",
            "41/41 [==============================] - 15s 377ms/step - loss: 0.0349 - acc: 0.9876 - val_loss: 0.0277 - val_acc: 0.9865\n",
            "Epoch 41/50\n",
            "40/41 [============================>.] - ETA: 0s - loss: 0.0309 - acc: 0.9897Epoch 1/50\n",
            "41/41 [==============================] - 16s 379ms/step - loss: 0.0304 - acc: 0.9900 - val_loss: 0.0276 - val_acc: 0.9865\n",
            "Epoch 42/50\n",
            "40/41 [============================>.] - ETA: 0s - loss: 0.0476 - acc: 0.9810Epoch 1/50\n",
            "41/41 [==============================] - 16s 381ms/step - loss: 0.0472 - acc: 0.9807 - val_loss: 0.0275 - val_acc: 0.9865\n",
            "Epoch 43/50\n",
            "40/41 [============================>.] - ETA: 0s - loss: 0.0295 - acc: 0.9913Epoch 1/50\n",
            "41/41 [==============================] - 16s 390ms/step - loss: 0.0291 - acc: 0.9915 - val_loss: 0.0273 - val_acc: 0.9865\n",
            "Epoch 44/50\n",
            "40/41 [============================>.] - ETA: 0s - loss: 0.0315 - acc: 0.9881Epoch 1/50\n",
            "41/41 [==============================] - 15s 376ms/step - loss: 0.0312 - acc: 0.9884 - val_loss: 0.0307 - val_acc: 0.9865\n",
            "Epoch 45/50\n",
            "40/41 [============================>.] - ETA: 0s - loss: 0.0482 - acc: 0.9818Epoch 1/50\n",
            "41/41 [==============================] - 15s 377ms/step - loss: 0.0473 - acc: 0.9822 - val_loss: 0.0394 - val_acc: 0.9865\n",
            "Epoch 46/50\n",
            "40/41 [============================>.] - ETA: 0s - loss: 0.0369 - acc: 0.9834Epoch 1/50\n",
            "41/41 [==============================] - 15s 373ms/step - loss: 0.0377 - acc: 0.9822 - val_loss: 0.0276 - val_acc: 0.9865\n",
            "Epoch 47/50\n",
            "40/41 [============================>.] - ETA: 0s - loss: 0.0331 - acc: 0.9889Epoch 1/50\n",
            "41/41 [==============================] - 15s 373ms/step - loss: 0.0325 - acc: 0.9892 - val_loss: 0.0276 - val_acc: 0.9865\n",
            "Epoch 48/50\n",
            "40/41 [============================>.] - ETA: 0s - loss: 0.0386 - acc: 0.9842Epoch 1/50\n",
            "41/41 [==============================] - 16s 381ms/step - loss: 0.0383 - acc: 0.9845 - val_loss: 0.0276 - val_acc: 0.9865\n",
            "Epoch 49/50\n",
            "40/41 [============================>.] - ETA: 0s - loss: 0.0308 - acc: 0.9889Epoch 1/50\n",
            "41/41 [==============================] - 15s 376ms/step - loss: 0.0302 - acc: 0.9892 - val_loss: 0.0393 - val_acc: 0.9865\n",
            "Epoch 50/50\n",
            "40/41 [============================>.] - ETA: 0s - loss: 0.0339 - acc: 0.9889Epoch 1/50\n",
            "41/41 [==============================] - 15s 373ms/step - loss: 0.0338 - acc: 0.9892 - val_loss: 0.0392 - val_acc: 0.9865\n"
          ]
        }
      ],
      "source": [
        "hist_0 = classifier_2.fit(aug_train.flow(trainX, trainY, batch_size=32), steps_per_epoch=steps, epochs = 50, verbose = 1,\n",
        "                        validation_data = aug_test.flow(valX, valY, batch_size=32), callbacks=callbacks_1)"
      ]
    },
    {
      "cell_type": "markdown",
      "metadata": {
        "id": "Y9KdOlV_etKN"
      },
      "source": [
        "## testing using sgd"
      ]
    },
    {
      "cell_type": "code",
      "execution_count": null,
      "metadata": {
        "id": "uD-_EFQFetKO",
        "outputId": "ff6aedf0-aeb2-4ea6-a66f-4b78fa6fabbf"
      },
      "outputs": [
        {
          "name": "stdout",
          "output_type": "stream",
          "text": [
            "confusion matrix\n",
            "[[112   4]\n",
            " [  5  43]]\n"
          ]
        }
      ],
      "source": [
        "import tensorflow\n",
        "model_2 = tensorflow.keras.models.load_model(\"test_model_23.h5\")\n",
        "#model_2.summary()\n",
        "from sklearn.metrics import confusion_matrix,classification_report\n",
        "y_pred = model_2.predict(testX)\n",
        "y_pred_nn=[int(p) for p in y_pred]\n",
        "y_pred_n = np.array(y_pred_nn)\n",
        "#y_p = np.argmax(y_pred,axis=1)\n",
        "#y_true = np.argmax(testY)\n",
        "print('confusion matrix')\n",
        "print(confusion_matrix(testY,y_pred_n))"
      ]
    },
    {
      "cell_type": "code",
      "execution_count": null,
      "metadata": {
        "id": "MjMqm17qetKO",
        "outputId": "1d54f269-fa86-45d4-e5a4-410e1caef7a0"
      },
      "outputs": [
        {
          "data": {
            "text/plain": [
              "(array([0, 0, 0, 0, 0, 0, 0, 0, 0, 0, 0, 0, 0, 0, 1, 1, 0, 1, 1, 0, 0, 0,\n",
              "        1, 0, 0, 0, 1, 0, 1, 0, 0, 1, 1, 0, 1, 0, 1, 0, 1, 1, 1, 0, 1, 0,\n",
              "        0, 1, 0, 0, 0, 0, 1, 1, 0, 0, 0, 1, 0, 0, 1, 0, 0, 0, 0, 1, 1, 1,\n",
              "        0, 0, 0, 0, 0, 0, 1, 0, 0, 0, 1, 1, 0, 0, 0, 0, 0, 0, 0, 0, 1, 1,\n",
              "        0, 0, 1, 0, 0, 0, 0, 1, 0, 1, 0, 0, 0, 0, 0, 0, 0, 0, 0, 0, 1, 0,\n",
              "        0, 0, 0, 0, 0, 1, 0, 0, 1, 0, 1, 0, 1, 0, 0, 0, 0, 0, 1, 1, 0, 1,\n",
              "        0, 0, 0, 1, 0, 0, 1, 0, 0, 0, 0, 0, 0, 1, 1, 0, 0, 1, 0, 0, 0, 0,\n",
              "        0, 0, 0, 1, 0, 0, 1, 1, 0, 0]),\n",
              " array([0, 0, 0, 0, 0, 0, 0, 0, 0, 0, 0, 0, 0, 0, 1, 1, 0, 1, 1, 0, 0, 0,\n",
              "        0, 0, 0, 0, 1, 0, 0, 0, 0, 1, 1, 0, 1, 0, 1, 0, 1, 1, 1, 0, 1, 0,\n",
              "        0, 1, 0, 0, 0, 0, 1, 1, 0, 0, 0, 1, 0, 0, 1, 0, 0, 0, 0, 1, 1, 1,\n",
              "        0, 0, 0, 0, 0, 1, 1, 0, 1, 0, 1, 1, 0, 0, 1, 0, 0, 0, 0, 0, 1, 1,\n",
              "        0, 0, 1, 0, 0, 0, 0, 1, 0, 1, 1, 0, 0, 0, 0, 0, 0, 0, 0, 0, 1, 0,\n",
              "        0, 0, 0, 0, 0, 1, 0, 0, 1, 0, 1, 0, 1, 0, 0, 0, 0, 0, 0, 1, 0, 1,\n",
              "        1, 0, 0, 0, 0, 0, 1, 0, 0, 0, 0, 0, 0, 1, 1, 0, 0, 1, 0, 0, 0, 0,\n",
              "        0, 0, 0, 1, 0, 0, 1, 1, 0, 0], dtype=int64))"
            ]
          },
          "execution_count": 61,
          "metadata": {},
          "output_type": "execute_result"
        }
      ],
      "source": [
        "y_pred_n,testY"
      ]
    },
    {
      "cell_type": "code",
      "execution_count": null,
      "metadata": {
        "id": "gguv558HetKO",
        "outputId": "356cf1e3-2e48-4397-b5ed-e3413a2c4009"
      },
      "outputs": [
        {
          "data": {
            "text/plain": [
              "0.9451219512195121"
            ]
          },
          "execution_count": 62,
          "metadata": {},
          "output_type": "execute_result"
        }
      ],
      "source": [
        "from sklearn import metrics\n",
        "sgd_accuracy = metrics.accuracy_score(testY, y_pred_n)\n",
        "sgd_accuracy "
      ]
    },
    {
      "cell_type": "code",
      "execution_count": null,
      "metadata": {
        "id": "US-TtysQetKO",
        "outputId": "cf36181a-ac8e-498b-88fb-021fe6c773ca"
      },
      "outputs": [
        {
          "data": {
            "text/plain": [
              "(0.8958333333333334, 0.9655172413793104)"
            ]
          },
          "execution_count": 63,
          "metadata": {},
          "output_type": "execute_result"
        }
      ],
      "source": [
        "sgd_recall_sensitivity = metrics.recall_score(testY, y_pred_n, pos_label=1)\n",
        "sgd_recall_specificity = metrics.recall_score(testY, y_pred_n, pos_label=0)\n",
        "sgd_recall_sensitivity, sgd_recall_specificity "
      ]
    },
    {
      "cell_type": "code",
      "execution_count": null,
      "metadata": {
        "id": "h7H4yekeetKP",
        "outputId": "b2dc26bd-2c86-4674-e710-ac8ffa8860fb"
      },
      "outputs": [
        {
          "name": "stdout",
          "output_type": "stream",
          "text": [
            "Classification report\n",
            "              precision    recall  f1-score   support\n",
            "\n",
            "  Non-Cancer       0.96      0.97      0.96       116\n",
            "      Cancer       0.91      0.90      0.91        48\n",
            "\n",
            "    accuracy                           0.95       164\n",
            "   macro avg       0.94      0.93      0.93       164\n",
            "weighted avg       0.94      0.95      0.94       164\n",
            "\n"
          ]
        }
      ],
      "source": [
        "print('Classification report')\n",
        "print(classification_report(testY,y_pred_n,target_names=['Non-Cancer','Cancer']))"
      ]
    },
    {
      "cell_type": "code",
      "execution_count": null,
      "metadata": {
        "id": "w1K41397etKP",
        "outputId": "59570fb3-dc7c-4335-b088-aa896b88a7d3"
      },
      "outputs": [
        {
          "data": {
            "image/png": "[encoded data removed]",
            "text/plain": [
              "<Figure size 432x288 with 2 Axes>"
            ]
          },
          "metadata": {
            "needs_background": "light"
          },
          "output_type": "display_data"
        }
      ],
      "source": [
        "import matplotlib.pyplot as plt\n",
        "\n",
        "import seaborn as sns\n",
        "\n",
        "plt.figure()\n",
        "\n",
        "heatmap = sns.heatmap(confusion_matrix(testY,y_pred_n), annot=True, cmap=\"Blues\")\n",
        "\n",
        "heatmap.yaxis.set_ticklabels(heatmap.yaxis.get_ticklabels(), rotation=0, ha='right')\n",
        "\n",
        "heatmap.xaxis.set_ticklabels(heatmap.xaxis.get_ticklabels(), rotation=0, ha='right')\n",
        "\n",
        "plt.ylabel('True label')\n",
        "\n",
        "plt.xlabel('Predicted label')\n",
        "\n",
        "plt.title('Model Results')\n",
        "\n",
        "plt.show()    "
      ]
    },
    {
      "cell_type": "code",
      "execution_count": null,
      "metadata": {
        "id": "qGnHqhyletKP",
        "outputId": "5989a3d8-5ac7-402c-ed13-58db06e99123"
      },
      "outputs": [
        {
          "data": {
            "image/png": "[encoded data removed]",
            "text/plain": [
              "<Figure size 432x288 with 2 Axes>"
            ]
          },
          "metadata": {
            "needs_background": "light"
          },
          "output_type": "display_data"
        }
      ],
      "source": [
        "import seaborn as sns\n",
        "ax = sns.heatmap(confusion_matrix(testY,y_pred_n)/np.sum(confusion_matrix(testY,y_pred_n)), fmt='.2%', annot=True, cmap='Blues')\n",
        "ax.set_title('Seaborn Confusion Matrix with labels\\n\\n');\n",
        "ax.set_xlabel('\\nPredicted Values')\n",
        "ax.set_ylabel('Actual Values ');\n",
        "## Ticket labels - List must be in alphabetical order\n",
        "ax.xaxis.set_ticklabels(['Non-Cancer','Cancer'])\n",
        "ax.yaxis.set_ticklabels(['Non-Cancer','Cancer'])\n",
        "## Display the visualization of the Confusion Matrix.\n",
        "plt.show()"
      ]
    },
    {
      "cell_type": "code",
      "execution_count": null,
      "metadata": {
        "id": "GGy6FUzvetKP",
        "outputId": "4a6d268d-d64c-498f-9383-4bb3130b40a6"
      },
      "outputs": [
        {
          "name": "stdout",
          "output_type": "stream",
          "text": [
            "Model: \"sequential\"\n",
            "_________________________________________________________________\n",
            "Layer (type)                 Output Shape              Param #   \n",
            "=================================================================\n",
            "conv2d (Conv2D)              (None, 254, 254, 32)      320       \n",
            "_________________________________________________________________\n",
            "max_pooling2d (MaxPooling2D) (None, 127, 127, 32)      0         \n",
            "_________________________________________________________________\n",
            "conv2d_1 (Conv2D)            (None, 125, 125, 32)      9248      \n",
            "_________________________________________________________________\n",
            "max_pooling2d_1 (MaxPooling2 (None, 62, 62, 32)        0         \n",
            "_________________________________________________________________\n",
            "conv2d_2 (Conv2D)            (None, 60, 60, 64)        18496     \n",
            "_________________________________________________________________\n",
            "max_pooling2d_2 (MaxPooling2 (None, 30, 30, 64)        0         \n",
            "_________________________________________________________________\n",
            "conv2d_3 (Conv2D)            (None, 28, 28, 64)        36928     \n",
            "_________________________________________________________________\n",
            "max_pooling2d_3 (MaxPooling2 (None, 14, 14, 64)        0         \n",
            "_________________________________________________________________\n",
            "conv2d_4 (Conv2D)            (None, 12, 12, 128)       73856     \n",
            "_________________________________________________________________\n",
            "max_pooling2d_4 (MaxPooling2 (None, 6, 6, 128)         0         \n",
            "_________________________________________________________________\n",
            "conv2d_5 (Conv2D)            (None, 4, 4, 128)         147584    \n",
            "_________________________________________________________________\n",
            "max_pooling2d_5 (MaxPooling2 (None, 2, 2, 128)         0         \n",
            "_________________________________________________________________\n",
            "flatten (Flatten)            (None, 512)               0         \n",
            "_________________________________________________________________\n",
            "dense (Dense)                (None, 512)               262656    \n",
            "_________________________________________________________________\n",
            "dense_1 (Dense)              (None, 1)                 513       \n",
            "=================================================================\n",
            "Total params: 549,601\n",
            "Trainable params: 549,601\n",
            "Non-trainable params: 0\n",
            "_________________________________________________________________\n"
          ]
        }
      ],
      "source": [
        "model_2.summary()"
      ]
    },
    {
      "cell_type": "code",
      "execution_count": null,
      "metadata": {
        "id": "80F53uJRetKQ",
        "outputId": "86b73798-73ab-4055-b33e-60967a133a68"
      },
      "outputs": [
        {
          "data": {
            "image/png": "[encoded data removed]",
            "text/plain": [
              "<Figure size 432x288 with 1 Axes>"
            ]
          },
          "metadata": {
            "needs_background": "light"
          },
          "output_type": "display_data"
        }
      ],
      "source": [
        "from sklearn.linear_model import LogisticRegression\n",
        "model_2 = tensorflow.keras.models.load_model(\"test_model_23.h5\")\n",
        "y_pred_proba = model_2.predict_proba(testX)\n",
        "y_pred_nn=[int(p) for p in y_pred_proba]\n",
        "y_pred_n = np.array(y_pred_nn)\n",
        "fpr, tpr, _ = metrics.roc_curve(testY,  y_pred_n)\n",
        "auc = metrics.roc_auc_score(testY, y_pred_n)\n",
        "plt.ylabel('True positive rate')\n",
        "plt.xlabel('False positive rate')\n",
        "plt.plot(fpr,tpr,label=\"auc=\"+str(auc))\n",
        "plt.legend(loc=4)\n",
        "plt.show()"
      ]
    },
    {
      "cell_type": "code",
      "execution_count": null,
      "metadata": {
        "id": "poO9NXoFetKQ",
        "outputId": "6f436177-344a-43c7-86d4-4416a8c630f5"
      },
      "outputs": [
        {
          "data": {
            "text/plain": [
              "<matplotlib.legend.Legend at 0x21f49fe3cf8>"
            ]
          },
          "execution_count": 69,
          "metadata": {},
          "output_type": "execute_result"
        },
        {
          "data": {
            "image/png": "[encoded data removed]",
            "text/plain": [
              "<Figure size 432x288 with 1 Axes>"
            ]
          },
          "metadata": {
            "needs_background": "light"
          },
          "output_type": "display_data"
        }
      ],
      "source": [
        "# print accuracy graph\n",
        "import matplotlib.pyplot as plt\n",
        "plt.plot(hist_sgd.history[\"acc\"])\n",
        "plt.plot(hist_sgd.history['val_acc'])\n",
        "#plt.title(\"model accuracy\")\n",
        "plt.ylabel(\"Accuracy\")\n",
        "plt.xlabel(\"Epoch\")\n",
        "plt.legend([\"Accuracy\",\"Validation Accuracy\"])"
      ]
    },
    {
      "cell_type": "code",
      "execution_count": null,
      "metadata": {
        "id": "3w9rANAyetKQ",
        "outputId": "448aa91c-b1a8-488f-8b73-14a7e13fe0c7"
      },
      "outputs": [
        {
          "data": {
            "text/plain": [
              "<matplotlib.legend.Legend at 0x21f5377abe0>"
            ]
          },
          "execution_count": 70,
          "metadata": {},
          "output_type": "execute_result"
        },
        {
          "data": {
            "image/png": "[encoded data removed]",
            "text/plain": [
              "<Figure size 432x288 with 1 Axes>"
            ]
          },
          "metadata": {
            "needs_background": "light"
          },
          "output_type": "display_data"
        }
      ],
      "source": [
        "# print loss graph\n",
        "plt.plot(hist_sgd.history['loss'])\n",
        "plt.plot(hist_sgd.history['val_loss'])\n",
        "#plt.title(\"model loss\")\n",
        "plt.ylabel(\"Loss\")\n",
        "plt.xlabel(\"Epoch\")\n",
        "plt.legend([\"loss\",\"Validation Loss\"])"
      ]
    },
    {
      "cell_type": "code",
      "execution_count": null,
      "metadata": {
        "id": "NixmsmDYetKQ"
      },
      "outputs": [],
      "source": [
        ""
      ]
    },
    {
      "cell_type": "markdown",
      "metadata": {
        "id": "YYfKf9PCetKQ"
      },
      "source": [
        "## testing using adam"
      ]
    },
    {
      "cell_type": "code",
      "execution_count": null,
      "metadata": {
        "id": "6Urk4R6zetKR",
        "outputId": "62b6262d-6f1e-4e83-8110-03bc19f82994"
      },
      "outputs": [
        {
          "name": "stdout",
          "output_type": "stream",
          "text": [
            "confusion matrix\n",
            "[[114   2]\n",
            " [  1  47]]\n"
          ]
        }
      ],
      "source": [
        "import tensorflow\n",
        "model = tensorflow.keras.models.load_model(\"test_model_22.h5\")\n",
        "#model_2.summary()\n",
        "from sklearn.metrics import confusion_matrix,classification_report\n",
        "y_pred = model.predict(testX)\n",
        "y_pred_nn=[int(p) for p in y_pred]\n",
        "y_pred_n = np.array(y_pred_nn)\n",
        "#y_p = np.argmax(y_pred,axis=1)\n",
        "#y_true = np.argmax(testY)\n",
        "print('confusion matrix')\n",
        "print(confusion_matrix(testY,y_pred_n))"
      ]
    },
    {
      "cell_type": "code",
      "execution_count": null,
      "metadata": {
        "id": "UpGfzCHBetKR",
        "outputId": "3e08cb34-1cbe-4755-a01c-9615a6385975"
      },
      "outputs": [
        {
          "data": {
            "text/plain": [
              "array([0, 0, 0, 0, 0, 0, 0, 0, 0, 0, 0, 0, 0, 0, 1, 1, 0, 1, 1, 0, 0, 0,\n",
              "       0, 0, 0, 0, 1, 0, 0, 0, 0, 1, 1, 0, 1, 0, 1, 0, 1, 1, 1, 0, 1, 0,\n",
              "       0, 1, 0, 0, 0, 0, 1, 1, 0, 0, 0, 1, 0, 0, 1, 0, 0, 0, 0, 1, 1, 1,\n",
              "       0, 0, 0, 0, 0, 1, 1, 0, 1, 0, 1, 1, 0, 0, 1, 0, 0, 0, 0, 0, 1, 1,\n",
              "       0, 0, 1, 0, 0, 0, 0, 1, 0, 1, 1, 0, 0, 0, 0, 0, 0, 0, 0, 0, 0, 0,\n",
              "       0, 0, 0, 0, 0, 1, 1, 0, 1, 0, 1, 0, 1, 0, 0, 0, 0, 0, 0, 1, 0, 1,\n",
              "       1, 0, 0, 0, 0, 0, 1, 0, 0, 0, 0, 0, 0, 1, 1, 0, 0, 1, 0, 0, 0, 0,\n",
              "       0, 0, 1, 1, 0, 0, 1, 1, 0, 0])"
            ]
          },
          "execution_count": 29,
          "metadata": {},
          "output_type": "execute_result"
        }
      ],
      "source": [
        "y_pred_n"
      ]
    },
    {
      "cell_type": "code",
      "execution_count": null,
      "metadata": {
        "id": "vRtTNJHEetKR",
        "outputId": "f65e23cb-baa8-488b-8222-b8f65e50e8b4"
      },
      "outputs": [
        {
          "data": {
            "text/plain": [
              "array([0, 0, 0, 0, 0, 0, 0, 0, 0, 0, 0, 0, 0, 0, 1, 1, 0, 1, 1, 0, 0, 0,\n",
              "       0, 0, 0, 0, 1, 0, 0, 0, 0, 1, 1, 0, 1, 0, 1, 0, 1, 1, 1, 0, 1, 0,\n",
              "       0, 1, 0, 0, 0, 0, 1, 1, 0, 0, 0, 1, 0, 0, 1, 0, 0, 0, 0, 1, 1, 1,\n",
              "       0, 0, 0, 0, 0, 1, 1, 0, 1, 0, 1, 1, 0, 0, 1, 0, 0, 0, 0, 0, 1, 1,\n",
              "       0, 0, 1, 0, 0, 0, 0, 1, 0, 1, 1, 0, 0, 0, 0, 0, 0, 0, 0, 0, 1, 0,\n",
              "       0, 0, 0, 0, 0, 1, 0, 0, 1, 0, 1, 0, 1, 0, 0, 0, 0, 0, 0, 1, 0, 1,\n",
              "       1, 0, 0, 0, 0, 0, 1, 0, 0, 0, 0, 0, 0, 1, 1, 0, 0, 1, 0, 0, 0, 0,\n",
              "       0, 0, 0, 1, 0, 0, 1, 1, 0, 0], dtype=int64)"
            ]
          },
          "execution_count": 30,
          "metadata": {},
          "output_type": "execute_result"
        }
      ],
      "source": [
        "testY"
      ]
    },
    {
      "cell_type": "code",
      "execution_count": null,
      "metadata": {
        "id": "KCW_VNDLetKR",
        "outputId": "2a7a317c-c3b4-48b7-c65e-9e816047c262"
      },
      "outputs": [
        {
          "data": {
            "text/plain": [
              "0.9817073170731707"
            ]
          },
          "execution_count": 31,
          "metadata": {},
          "output_type": "execute_result"
        }
      ],
      "source": [
        "from sklearn import metrics\n",
        "adam_accuracy = metrics.accuracy_score(testY, y_pred_n)\n",
        "adam_accuracy "
      ]
    },
    {
      "cell_type": "code",
      "execution_count": null,
      "metadata": {
        "id": "210LMUSvetKS",
        "outputId": "084dbd5a-5f74-4d7c-bff2-9990e45ebcdb"
      },
      "outputs": [
        {
          "data": {
            "text/plain": [
              "(0.9791666666666666, 0.9827586206896551)"
            ]
          },
          "execution_count": 32,
          "metadata": {},
          "output_type": "execute_result"
        }
      ],
      "source": [
        "adam_recall_sensitivity = metrics.recall_score(testY, y_pred_n, pos_label=1)\n",
        "adam_recall_specificity = metrics.recall_score(testY, y_pred_n, pos_label=0)\n",
        "adam_recall_sensitivity, adam_recall_specificity "
      ]
    },
    {
      "cell_type": "code",
      "execution_count": null,
      "metadata": {
        "id": "aZrEBXzBetKS",
        "outputId": "d2359412-0e9c-4c60-8be9-ddfb2401a830"
      },
      "outputs": [
        {
          "data": {
            "image/png": "[encoded data removed]",
            "text/plain": [
              "<Figure size 432x288 with 2 Axes>"
            ]
          },
          "metadata": {
            "needs_background": "light"
          },
          "output_type": "display_data"
        }
      ],
      "source": [
        "import seaborn as sns\n",
        "ax = sns.heatmap(confusion_matrix(testY,y_pred_n)/np.sum(confusion_matrix(testY,y_pred_n)), fmt='.2%', annot=True, cmap='Blues')\n",
        "ax.set_title('Seaborn Confusion Matrix with labels\\n\\n');\n",
        "ax.set_xlabel('\\nPredicted Values')\n",
        "ax.set_ylabel('Actual Values ');\n",
        "## Ticket labels - List must be in alphabetical order\n",
        "ax.xaxis.set_ticklabels(['Non-Cancer','Cancer'])\n",
        "ax.yaxis.set_ticklabels(['Non-Cancer','Cancer'])\n",
        "## Display the visualization of the Confusion Matrix.\n",
        "plt.show()"
      ]
    },
    {
      "cell_type": "code",
      "execution_count": null,
      "metadata": {
        "id": "7Y3NgOD6etKS",
        "outputId": "16d29cb9-a17d-4fa7-990c-38e90076925c"
      },
      "outputs": [
        {
          "name": "stdout",
          "output_type": "stream",
          "text": [
            "Classification report\n",
            "              precision    recall  f1-score   support\n",
            "\n",
            "  Non-Cancer       0.99      0.98      0.99       116\n",
            "      Cancer       0.96      0.98      0.97        48\n",
            "\n",
            "    accuracy                           0.98       164\n",
            "   macro avg       0.98      0.98      0.98       164\n",
            "weighted avg       0.98      0.98      0.98       164\n",
            "\n"
          ]
        }
      ],
      "source": [
        "print('Classification report')\n",
        "print(classification_report(testY,y_pred_n,target_names=['Non-Cancer','Cancer']))"
      ]
    },
    {
      "cell_type": "code",
      "execution_count": null,
      "metadata": {
        "id": "SVkybfY0etKS",
        "outputId": "3c092a3a-d575-422c-830d-f472bc5df562"
      },
      "outputs": [
        {
          "data": {
            "image/png": "[encoded data removed]",
            "text/plain": [
              "<Figure size 432x288 with 1 Axes>"
            ]
          },
          "metadata": {
            "needs_background": "light"
          },
          "output_type": "display_data"
        }
      ],
      "source": [
        "y_pred_proba = model.predict_proba(testX)\n",
        "y_pred_nn=[int(p) for p in y_pred_proba]\n",
        "y_pred_n = np.array(y_pred_nn)\n",
        "fpr, tpr, _ = metrics.roc_curve(testY,  y_pred_n)\n",
        "auc = metrics.roc_auc_score(testY, y_pred_n)\n",
        "plt.ylabel('True positive rate')\n",
        "plt.xlabel('False positive rate')\n",
        "plt.plot(fpr,tpr,label=\"auc=\"+str(auc))\n",
        "plt.legend(loc=4)\n",
        "plt.show()"
      ]
    },
    {
      "cell_type": "code",
      "execution_count": null,
      "metadata": {
        "id": "8BBUIhRoetKS",
        "outputId": "3ebfa15c-0db1-4465-f935-0757dbcf66f1"
      },
      "outputs": [
        {
          "data": {
            "text/plain": [
              "[<tensorflow.python.keras.layers.convolutional.Conv2D at 0x1862e286c50>,\n",
              " <tensorflow.python.keras.layers.pooling.MaxPooling2D at 0x1862e28a400>,\n",
              " <tensorflow.python.keras.layers.convolutional.Conv2D at 0x1862e29b9e8>,\n",
              " <tensorflow.python.keras.layers.pooling.MaxPooling2D at 0x1862e2a2160>,\n",
              " <tensorflow.python.keras.layers.convolutional.Conv2D at 0x1862e2a15f8>,\n",
              " <tensorflow.python.keras.layers.pooling.MaxPooling2D at 0x1862e2a1cf8>,\n",
              " <tensorflow.python.keras.layers.convolutional.Conv2D at 0x1862e2c3198>,\n",
              " <tensorflow.python.keras.layers.pooling.MaxPooling2D at 0x1862e2c37b8>,\n",
              " <tensorflow.python.keras.layers.convolutional.Conv2D at 0x1862e2d0cf8>,\n",
              " <tensorflow.python.keras.layers.pooling.MaxPooling2D at 0x1862e2de860>,\n",
              " <tensorflow.python.keras.layers.convolutional.Conv2D at 0x1862e28a4a8>,\n",
              " <tensorflow.python.keras.layers.pooling.MaxPooling2D at 0x1862e2f29b0>,\n",
              " <tensorflow.python.keras.layers.core.Flatten at 0x1862e2def98>,\n",
              " <tensorflow.python.keras.layers.core.Dense at 0x1862e2ec668>,\n",
              " <tensorflow.python.keras.layers.core.Dense at 0x1862e2e5e48>]"
            ]
          },
          "execution_count": 37,
          "metadata": {},
          "output_type": "execute_result"
        }
      ],
      "source": [
        "layer=model.layers\n",
        "layer"
      ]
    },
    {
      "cell_type": "code",
      "execution_count": null,
      "metadata": {
        "colab": {
          "base_uri": "https://localhost:8080/",
          "height": 312
        },
        "id": "-r3bLoxIgbut",
        "outputId": "c74b7b15-ed75-40b9-ead2-d3884f0e0918"
      },
      "outputs": [
        {
          "data": {
            "text/plain": [
              "<matplotlib.legend.Legend at 0x1c37cca3fd0>"
            ]
          },
          "execution_count": 69,
          "metadata": {},
          "output_type": "execute_result"
        },
        {
          "data": {
            "image/png": "[encoded data removed]",
            "text/plain": [
              "<Figure size 432x288 with 1 Axes>"
            ]
          },
          "metadata": {
            "needs_background": "light"
          },
          "output_type": "display_data"
        }
      ],
      "source": [
        "# print accuracy graph\n",
        "import matplotlib.pyplot as plt\n",
        "plt.plot(hist_0.history[\"acc\"])\n",
        "plt.plot(hist_0.history['val_acc'])\n",
        "plt.title(\"model accuracy\")\n",
        "plt.ylabel(\"Accuracy\")\n",
        "plt.xlabel(\"Epoch\")\n",
        "plt.legend([\"Accuracy\",\"Validation Accuracy\"])"
      ]
    },
    {
      "cell_type": "code",
      "execution_count": null,
      "metadata": {
        "colab": {
          "base_uri": "https://localhost:8080/",
          "height": 312
        },
        "id": "KBoi1Er7eNva",
        "outputId": "ec3e98ee-f5c1-4dfc-cf4c-4b5542d2df06"
      },
      "outputs": [
        {
          "data": {
            "text/plain": [
              "<matplotlib.legend.Legend at 0x1c37cab6908>"
            ]
          },
          "execution_count": 70,
          "metadata": {},
          "output_type": "execute_result"
        },
        {
          "data": {
            "image/png": "[encoded data removed]",
            "text/plain": [
              "<Figure size 432x288 with 1 Axes>"
            ]
          },
          "metadata": {
            "needs_background": "light"
          },
          "output_type": "display_data"
        }
      ],
      "source": [
        "# print loss graph\n",
        "plt.plot(hist_0.history['loss'])\n",
        "plt.plot(hist_0.history['val_loss'])\n",
        "plt.title(\"model loss\")\n",
        "plt.ylabel(\"Loss\")\n",
        "plt.xlabel(\"Epoch\")\n",
        "plt.legend([\"loss\",\"Validation Loss\"])"
      ]
    },
    {
      "cell_type": "code",
      "execution_count": null,
      "metadata": {
        "id": "SbBnZwi4etKT"
      },
      "outputs": [],
      "source": [
        "import tensorflow\n",
        "model_new_1 = tensorflow.keras.models.load_model(\"./test_model_22.h5\")"
      ]
    },
    {
      "cell_type": "code",
      "execution_count": null,
      "metadata": {
        "scrolled": false,
        "id": "_9Om5FYietKT",
        "outputId": "bff01a55-f738-4c19-bfad-b57a0d36a94f"
      },
      "outputs": [
        {
          "data": {
            "image/png": "[encoded data removed]",
            "text/plain": [
              "<PIL.Image.Image image mode=RGBA size=766x1391 at 0x28E718D6668>"
            ]
          },
          "execution_count": 95,
          "metadata": {},
          "output_type": "execute_result"
        }
      ],
      "source": [
        "import visualkeras\n",
        "from PIL import ImageFont\n",
        "from collections import defaultdict\n",
        "\n",
        "#color_map = defaultdict(dict)\n",
        " \n",
        "#color_map[layers.Dense]['fill'] = 'black'\n",
        "#color_map[layers.Flatten]['fill'] = 'teal'\n",
        "visualkeras.layered_view(model_new_1,legend=True,spacing=15)"
      ]
    },
    {
      "cell_type": "code",
      "execution_count": null,
      "metadata": {
        "id": "OsuPZD-getKU",
        "outputId": "91110808-c595-4808-a0cf-9dea66f8a3c2"
      },
      "outputs": [
        {
          "name": "stdout",
          "output_type": "stream",
          "text": [
            "WARNING:tensorflow:From c:\\users\\s81\\appdata\\local\\programs\\python\\python36\\lib\\site-packages\\tensorflow_core\\python\\ops\\init_ops.py:97: calling GlorotUniform.__init__ (from tensorflow.python.ops.init_ops) with dtype is deprecated and will be removed in a future version.\n",
            "Instructions for updating:\n",
            "Call initializer instance with the dtype argument instead of passing it to the constructor\n",
            "WARNING:tensorflow:From c:\\users\\s81\\appdata\\local\\programs\\python\\python36\\lib\\site-packages\\tensorflow_core\\python\\ops\\init_ops.py:97: calling Zeros.__init__ (from tensorflow.python.ops.init_ops) with dtype is deprecated and will be removed in a future version.\n",
            "Instructions for updating:\n",
            "Call initializer instance with the dtype argument instead of passing it to the constructor\n",
            "WARNING:tensorflow:From c:\\users\\s81\\appdata\\local\\programs\\python\\python36\\lib\\site-packages\\tensorflow_core\\python\\ops\\resource_variable_ops.py:1630: calling BaseResourceVariable.__init__ (from tensorflow.python.ops.resource_variable_ops) with constraint is deprecated and will be removed in a future version.\n",
            "Instructions for updating:\n",
            "If using Keras pass *_constraint arguments to layers.\n",
            "WARNING:tensorflow:From c:\\users\\s81\\appdata\\local\\programs\\python\\python36\\lib\\site-packages\\tensorflow_core\\python\\ops\\nn_impl.py:183: where (from tensorflow.python.ops.array_ops) is deprecated and will be removed in a future version.\n",
            "Instructions for updating:\n",
            "Use tf.where in 2.0, which has the same broadcast rule as np.where\n"
          ]
        }
      ],
      "source": [
        "import tensorflow\n",
        "model = tensorflow.keras.models.load_model(\"test_model_22.h5\")"
      ]
    },
    {
      "cell_type": "code",
      "execution_count": null,
      "metadata": {
        "id": "AELCJQFfetKU"
      },
      "outputs": [],
      "source": [
        "model_json=model.to_json()"
      ]
    },
    {
      "cell_type": "code",
      "execution_count": null,
      "metadata": {
        "id": "tLDmBN-9etKU"
      },
      "outputs": [],
      "source": [
        "with open(\"cnn_model.json\",\"w\") as file:\n",
        "    file.write(model_json)"
      ]
    },
    {
      "cell_type": "code",
      "execution_count": null,
      "metadata": {
        "id": "AWqRvH-metKU"
      },
      "outputs": [],
      "source": [
        "model.save_weights(\"cnn_weights.h5\")"
      ]
    },
    {
      "cell_type": "code",
      "execution_count": null,
      "metadata": {
        "id": "253leDT2etKU",
        "outputId": "86566b31-acba-45de-e300-ec254bddcdc0"
      },
      "outputs": [
        {
          "data": {
            "text/plain": [
              "array([0, 0, 0, 0, 0, 0, 0, 0, 0, 0, 0, 0, 0, 0, 1, 1, 0, 1, 1, 0, 0, 0,\n",
              "       0, 0, 0, 0, 1, 0, 0, 0, 0, 1, 1, 0, 1, 0, 1, 0, 1, 1, 1, 0, 1, 0,\n",
              "       0, 1, 0, 0, 0, 0, 1, 1, 0, 0, 0, 1, 0, 0, 1, 0, 0, 0, 0, 1, 1, 1,\n",
              "       0, 0, 0, 0, 0, 1, 1, 0, 1, 0, 1, 1, 0, 0, 1, 0, 0, 0, 0, 0, 1, 1,\n",
              "       0, 0, 1, 0, 0, 0, 0, 1, 0, 1, 1, 0, 0, 0, 0, 0, 0, 0, 0, 0, 0, 0,\n",
              "       0, 0, 0, 0, 0, 1, 1, 0, 1, 0, 1, 0, 1, 0, 0, 0, 0, 0, 0, 1, 0, 1,\n",
              "       1, 0, 0, 0, 0, 0, 1, 0, 0, 0, 0, 0, 0, 1, 1, 0, 0, 1, 0, 0, 0, 0,\n",
              "       0, 0, 1, 1, 0, 0, 1, 1, 0, 0])"
            ]
          },
          "execution_count": 13,
          "metadata": {},
          "output_type": "execute_result"
        }
      ],
      "source": [
        "y_pred=model.predict(testX)\n",
        "y_pred=[int(p>0.5) for p in y_pred]\n",
        "y_pred = np.array(y_pred)\n",
        "y_pred"
      ]
    },
    {
      "cell_type": "code",
      "execution_count": null,
      "metadata": {
        "id": "zh8cO_oEetKU",
        "outputId": "367576b4-9852-4535-bfcc-7b33fb01f20c"
      },
      "outputs": [
        {
          "data": {
            "text/plain": [
              "array([0, 0, 0, 0, 0, 0, 0, 0, 0, 0, 0, 0, 0, 0, 1, 1, 0, 1, 1, 0, 0, 0,\n",
              "       0, 0, 0, 0, 1, 0, 0, 0, 0, 1, 1, 0, 1, 0, 1, 0, 1, 1, 1, 0, 1, 0,\n",
              "       0, 1, 0, 0, 0, 0, 1, 1, 0, 0, 0, 1, 0, 0, 1, 0, 0, 0, 0, 1, 1, 1,\n",
              "       0, 0, 0, 0, 0, 1, 1, 0, 1, 0, 1, 1, 0, 0, 1, 0, 0, 0, 0, 0, 1, 1,\n",
              "       0, 0, 1, 0, 0, 0, 0, 1, 0, 1, 1, 0, 0, 0, 0, 0, 0, 0, 0, 0, 1, 0,\n",
              "       0, 0, 0, 0, 0, 1, 0, 0, 1, 0, 1, 0, 1, 0, 0, 0, 0, 0, 0, 1, 0, 1,\n",
              "       1, 0, 0, 0, 0, 0, 1, 0, 0, 0, 0, 0, 0, 1, 1, 0, 0, 1, 0, 0, 0, 0,\n",
              "       0, 0, 0, 1, 0, 0, 1, 1, 0, 0], dtype=int64)"
            ]
          },
          "execution_count": 10,
          "metadata": {},
          "output_type": "execute_result"
        }
      ],
      "source": [
        "testY"
      ]
    },
    {
      "cell_type": "code",
      "execution_count": null,
      "metadata": {
        "id": "f-a583MOetKV"
      },
      "outputs": [],
      "source": [
        ""
      ]
    }
  ],
  "metadata": {
    "accelerator": "GPU",
    "colab": {
      "collapsed_sections": [],
      "name": "lung_cancer_train_test_code.ipynb",
      "provenance": []
    },
    "kernelspec": {
      "display_name": "Python 3",
      "language": "python",
      "name": "python3"
    },
    "language_info": {
      "codemirror_mode": {
        "name": "ipython",
        "version": 3
      },
      "file_extension": ".py",
      "mimetype": "text/x-python",
      "name": "python",
      "nbconvert_exporter": "python",
      "pygments_lexer": "ipython3",
      "version": "3.6.3"
    }
  },
  "nbformat": 4,
  "nbformat_minor": 0
}